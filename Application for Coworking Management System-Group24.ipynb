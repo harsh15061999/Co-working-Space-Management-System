{
 "cells": [
  {
   "cell_type": "markdown",
   "id": "ab57f729",
   "metadata": {},
   "source": [
    "## Objective: To connect use case project database and fetch data\n"
   ]
  },
  {
   "cell_type": "markdown",
   "id": "2be1d695",
   "metadata": {},
   "source": [
    "### Project : Coworking Space Management System\n",
    "### Group Number: 24\n",
    "### Group Members: Harsh Shingala, Aditi Chadha"
   ]
  },
  {
   "cell_type": "code",
   "execution_count": 1,
   "id": "e53a6759",
   "metadata": {},
   "outputs": [],
   "source": [
    "import pymysql\n",
    "import pandas as pd\n",
    "import seaborn as sns\n",
    "import matplotlib.pyplot as plt"
   ]
  },
  {
   "cell_type": "code",
   "execution_count": 2,
   "id": "ebbe035c",
   "metadata": {},
   "outputs": [],
   "source": [
    "db_name = 'coworking'\n",
    "#db_host = '127.0.0.1'\n",
    "db_host = 'localhost'\n",
    "db_usernm = 'root'\n",
    "db_password = 'Delhi@110087'"
   ]
  },
  {
   "cell_type": "code",
   "execution_count": 3,
   "id": "8fc119ec",
   "metadata": {},
   "outputs": [],
   "source": [
    "def sql_connection():\n",
    "    # using try and except to make connection and generate errors\n",
    "    try:\n",
    "        connection = pymysql.connect(host = db_host,\n",
    "                                    port = int(3306),\n",
    "                                    user = db_usernm,\n",
    "                                    password = db_password,\n",
    "                                    db = db_name)\n",
    "        if connection:\n",
    "            print(\"Database connected successfully\")\n",
    "            return connection\n",
    "        else:\n",
    "            print(\"Not connected\")\n",
    "    except Exception as e: \n",
    "        print(e)\n",
    "        "
   ]
  },
  {
   "cell_type": "code",
   "execution_count": 4,
   "id": "b902c0a3",
   "metadata": {},
   "outputs": [
    {
     "name": "stdout",
     "output_type": "stream",
     "text": [
      "Database connected successfully\n"
     ]
    },
    {
     "data": {
      "text/plain": [
       "<pymysql.connections.Connection at 0x28d7a24ae20>"
      ]
     },
     "execution_count": 4,
     "metadata": {},
     "output_type": "execute_result"
    }
   ],
   "source": [
    "#Calling SQL_connection function to generate connection \n",
    "conn = sql_connection()\n",
    "conn"
   ]
  },
  {
   "cell_type": "markdown",
   "id": "886c5395",
   "metadata": {},
   "source": [
    "### Using sample queries to validate connection"
   ]
  },
  {
   "cell_type": "markdown",
   "id": "d557eb47",
   "metadata": {},
   "source": [
    "### Query 1: Total number of bookings booked between 1st February and 1st July 2022 w.r.t SpaceTypes"
   ]
  },
  {
   "cell_type": "code",
   "execution_count": 5,
   "id": "ed596f28",
   "metadata": {},
   "outputs": [],
   "source": [
    "query_1 = \"\"\"SELECT s.SpaceType, COUNT(DISTINCT sb.Id) bookings\n",
    "FROM spacebooking sb\n",
    "INNER JOIN spaces s ON s.Id = sb.SpaceId\n",
    "WHERE DATE(sb.bookingtime) >='2022-02-01' AND DATE(sb.bookingtime)<'2022-07-01'\n",
    "GROUP BY s.SpaceType\"\"\""
   ]
  },
  {
   "cell_type": "code",
   "execution_count": 6,
   "id": "1399cdc3",
   "metadata": {},
   "outputs": [
    {
     "name": "stderr",
     "output_type": "stream",
     "text": [
      "C:\\ProgramData\\Anaconda3\\lib\\site-packages\\pandas\\io\\sql.py:762: UserWarning: pandas only support SQLAlchemy connectable(engine/connection) ordatabase string URI or sqlite3 DBAPI2 connectionother DBAPI2 objects are not tested, please consider using SQLAlchemy\n",
      "  warnings.warn(\n"
     ]
    },
    {
     "data": {
      "text/html": [
       "<div>\n",
       "<style scoped>\n",
       "    .dataframe tbody tr th:only-of-type {\n",
       "        vertical-align: middle;\n",
       "    }\n",
       "\n",
       "    .dataframe tbody tr th {\n",
       "        vertical-align: top;\n",
       "    }\n",
       "\n",
       "    .dataframe thead th {\n",
       "        text-align: right;\n",
       "    }\n",
       "</style>\n",
       "<table border=\"1\" class=\"dataframe\">\n",
       "  <thead>\n",
       "    <tr style=\"text-align: right;\">\n",
       "      <th></th>\n",
       "      <th>SpaceType</th>\n",
       "      <th>bookings</th>\n",
       "    </tr>\n",
       "  </thead>\n",
       "  <tbody>\n",
       "    <tr>\n",
       "      <th>0</th>\n",
       "      <td>Common_Area</td>\n",
       "      <td>26</td>\n",
       "    </tr>\n",
       "    <tr>\n",
       "      <th>1</th>\n",
       "      <td>Meeting_Room</td>\n",
       "      <td>31</td>\n",
       "    </tr>\n",
       "    <tr>\n",
       "      <th>2</th>\n",
       "      <td>Seminar_Hall</td>\n",
       "      <td>3</td>\n",
       "    </tr>\n",
       "  </tbody>\n",
       "</table>\n",
       "</div>"
      ],
      "text/plain": [
       "      SpaceType  bookings\n",
       "0   Common_Area        26\n",
       "1  Meeting_Room        31\n",
       "2  Seminar_Hall         3"
      ]
     },
     "execution_count": 6,
     "metadata": {},
     "output_type": "execute_result"
    }
   ],
   "source": [
    "df1 = pd.read_sql_query(query_1, conn)\n",
    "df1"
   ]
  },
  {
   "cell_type": "code",
   "execution_count": 7,
   "id": "89362148",
   "metadata": {},
   "outputs": [
    {
     "data": {
      "text/plain": [
       "<AxesSubplot:xlabel='SpaceType', ylabel='bookings'>"
      ]
     },
     "execution_count": 7,
     "metadata": {},
     "output_type": "execute_result"
    },
    {
     "data": {
      "image/png": "[encoded data removed]",
      "text/plain": [
       "<Figure size 640x480 with 1 Axes>"
      ]
     },
     "metadata": {},
     "output_type": "display_data"
    }
   ],
   "source": [
    "sns.barplot(data=df1, x=\"SpaceType\", y=\"bookings\")"
   ]
  },
  {
   "cell_type": "markdown",
   "id": "72fa0d9d",
   "metadata": {},
   "source": [
    "Meeting room SpaceType is most booked during the said time."
   ]
  },
  {
   "cell_type": "markdown",
   "id": "9875e7b1",
   "metadata": {},
   "source": [
    "### Query 2: Which are the top 5 corporate with the maximum number of employees ?"
   ]
  },
  {
   "cell_type": "code",
   "execution_count": 8,
   "id": "15291434",
   "metadata": {},
   "outputs": [],
   "source": [
    "query_2 = \"\"\"SELECT c2.* FROM\n",
    "(SELECT c.CorporateName, COUNT(e.Id) num_employees\n",
    "FROM corporate c\n",
    "JOIN employees e ON e.CorporateId = c.Id\n",
    "GROUP BY c.CorporateName) c2\n",
    "WHERE 5>\n",
    "(SELECT COUNT(*) FROM\n",
    "(SELECT c.CorporateName, COUNT(e.Id) num_employees\n",
    "FROM corporate c\n",
    "JOIN employees e ON e.CorporateId = c.Id\n",
    "GROUP BY c.CorporateName) c1\n",
    "WHERE c1.num_employees>c2.num_employees)\n",
    "ORDER BY c2.num_employees DESC\"\"\""
   ]
  },
  {
   "cell_type": "code",
   "execution_count": 9,
   "id": "db011102",
   "metadata": {},
   "outputs": [
    {
     "name": "stderr",
     "output_type": "stream",
     "text": [
      "C:\\ProgramData\\Anaconda3\\lib\\site-packages\\pandas\\io\\sql.py:762: UserWarning: pandas only support SQLAlchemy connectable(engine/connection) ordatabase string URI or sqlite3 DBAPI2 connectionother DBAPI2 objects are not tested, please consider using SQLAlchemy\n",
      "  warnings.warn(\n"
     ]
    },
    {
     "data": {
      "text/html": [
       "<div>\n",
       "<style scoped>\n",
       "    .dataframe tbody tr th:only-of-type {\n",
       "        vertical-align: middle;\n",
       "    }\n",
       "\n",
       "    .dataframe tbody tr th {\n",
       "        vertical-align: top;\n",
       "    }\n",
       "\n",
       "    .dataframe thead th {\n",
       "        text-align: right;\n",
       "    }\n",
       "</style>\n",
       "<table border=\"1\" class=\"dataframe\">\n",
       "  <thead>\n",
       "    <tr style=\"text-align: right;\">\n",
       "      <th></th>\n",
       "      <th>CorporateName</th>\n",
       "      <th>num_employees</th>\n",
       "    </tr>\n",
       "  </thead>\n",
       "  <tbody>\n",
       "    <tr>\n",
       "      <th>0</th>\n",
       "      <td>Quinu</td>\n",
       "      <td>63</td>\n",
       "    </tr>\n",
       "    <tr>\n",
       "      <th>1</th>\n",
       "      <td>Thoughtmix</td>\n",
       "      <td>45</td>\n",
       "    </tr>\n",
       "    <tr>\n",
       "      <th>2</th>\n",
       "      <td>Livetube</td>\n",
       "      <td>32</td>\n",
       "    </tr>\n",
       "    <tr>\n",
       "      <th>3</th>\n",
       "      <td>Jazzy</td>\n",
       "      <td>30</td>\n",
       "    </tr>\n",
       "    <tr>\n",
       "      <th>4</th>\n",
       "      <td>Mydeo</td>\n",
       "      <td>30</td>\n",
       "    </tr>\n",
       "  </tbody>\n",
       "</table>\n",
       "</div>"
      ],
      "text/plain": [
       "  CorporateName  num_employees\n",
       "0         Quinu             63\n",
       "1    Thoughtmix             45\n",
       "2      Livetube             32\n",
       "3         Jazzy             30\n",
       "4         Mydeo             30"
      ]
     },
     "execution_count": 9,
     "metadata": {},
     "output_type": "execute_result"
    }
   ],
   "source": [
    "df2 = pd.read_sql_query(query_2, conn)\n",
    "df2"
   ]
  },
  {
   "cell_type": "code",
   "execution_count": 10,
   "id": "2e0b4c49",
   "metadata": {},
   "outputs": [
    {
     "data": {
      "text/plain": [
       "<BarContainer object of 5 artists>"
      ]
     },
     "execution_count": 10,
     "metadata": {},
     "output_type": "execute_result"
    },
    {
     "data": {
      "image/png": "[encoded data removed]",
      "text/plain": [
       "<Figure size 640x480 with 1 Axes>"
      ]
     },
     "metadata": {},
     "output_type": "display_data"
    }
   ],
   "source": [
    "plt.barh( df2.loc[:,'CorporateName'], df2.loc[:,'num_employees'])"
   ]
  },
  {
   "cell_type": "markdown",
   "id": "8fff2550",
   "metadata": {},
   "source": [
    "Amongst the Top 5 companies with highest number of employees, Quinu has the maximum employees"
   ]
  },
  {
   "cell_type": "markdown",
   "id": "c278d945",
   "metadata": {},
   "source": [
    "### Query 3: Analysis to find which building is generating maximum revenue ?"
   ]
  },
  {
   "cell_type": "code",
   "execution_count": 11,
   "id": "b0b51618",
   "metadata": {},
   "outputs": [],
   "source": [
    "query_3 = \"\"\"SELECT CONCAT(b1.BuildingNumber, \", \", b1.StreetName, \" \", b1.StreetSuffix, \", \",\n",
    "b1.Neighbourhood, \" - \", b1.ZipCode ) BuildingAddress, t.* \n",
    "FROM\n",
    "(SELECT s.BuildingId, SUM(i.TotalBillingCost) total_revenue\n",
    "FROM invoice i\n",
    "JOIN spacebooking sb ON sb.Id = i.SpaceBookingId\n",
    "JOIN spaces s ON s.Id = sb.SpaceId\n",
    "JOIN building b ON b.Id = s.BuildingId\n",
    "GROUP BY s.BuildingId\n",
    "ORDER BY total_revenue DESC\n",
    "LIMIT 1) t\n",
    "JOIN building b1 ON b1.Id = t.BuildingId\"\"\""
   ]
  },
  {
   "cell_type": "code",
   "execution_count": 12,
   "id": "ed8f6905",
   "metadata": {},
   "outputs": [
    {
     "name": "stderr",
     "output_type": "stream",
     "text": [
      "C:\\ProgramData\\Anaconda3\\lib\\site-packages\\pandas\\io\\sql.py:762: UserWarning: pandas only support SQLAlchemy connectable(engine/connection) ordatabase string URI or sqlite3 DBAPI2 connectionother DBAPI2 objects are not tested, please consider using SQLAlchemy\n",
      "  warnings.warn(\n"
     ]
    },
    {
     "data": {
      "text/html": [
       "<div>\n",
       "<style scoped>\n",
       "    .dataframe tbody tr th:only-of-type {\n",
       "        vertical-align: middle;\n",
       "    }\n",
       "\n",
       "    .dataframe tbody tr th {\n",
       "        vertical-align: top;\n",
       "    }\n",
       "\n",
       "    .dataframe thead th {\n",
       "        text-align: right;\n",
       "    }\n",
       "</style>\n",
       "<table border=\"1\" class=\"dataframe\">\n",
       "  <thead>\n",
       "    <tr style=\"text-align: right;\">\n",
       "      <th></th>\n",
       "      <th>BuildingAddress</th>\n",
       "      <th>BuildingId</th>\n",
       "      <th>total_revenue</th>\n",
       "    </tr>\n",
       "  </thead>\n",
       "  <tbody>\n",
       "    <tr>\n",
       "      <th>0</th>\n",
       "      <td>114, Alpha Avenue, Waltham - 02111</td>\n",
       "      <td>399</td>\n",
       "      <td>672.6</td>\n",
       "    </tr>\n",
       "  </tbody>\n",
       "</table>\n",
       "</div>"
      ],
      "text/plain": [
       "                      BuildingAddress  BuildingId  total_revenue\n",
       "0  114, Alpha Avenue, Waltham - 02111         399          672.6"
      ]
     },
     "execution_count": 12,
     "metadata": {},
     "output_type": "execute_result"
    }
   ],
   "source": [
    "df3 = pd.read_sql_query(query_3, conn)\n",
    "df3"
   ]
  },
  {
   "cell_type": "code",
   "execution_count": 13,
   "id": "445e9260",
   "metadata": {},
   "outputs": [],
   "source": [
    "query_4 = \"\"\"SELECT SUM(i.TotalBillingCost) revenue\n",
    "FROM invoice i\"\"\""
   ]
  },
  {
   "cell_type": "code",
   "execution_count": 14,
   "id": "14e637dc",
   "metadata": {},
   "outputs": [
    {
     "name": "stderr",
     "output_type": "stream",
     "text": [
      "C:\\ProgramData\\Anaconda3\\lib\\site-packages\\pandas\\io\\sql.py:762: UserWarning: pandas only support SQLAlchemy connectable(engine/connection) ordatabase string URI or sqlite3 DBAPI2 connectionother DBAPI2 objects are not tested, please consider using SQLAlchemy\n",
      "  warnings.warn(\n"
     ]
    },
    {
     "data": {
      "text/html": [
       "<div>\n",
       "<style scoped>\n",
       "    .dataframe tbody tr th:only-of-type {\n",
       "        vertical-align: middle;\n",
       "    }\n",
       "\n",
       "    .dataframe tbody tr th {\n",
       "        vertical-align: top;\n",
       "    }\n",
       "\n",
       "    .dataframe thead th {\n",
       "        text-align: right;\n",
       "    }\n",
       "</style>\n",
       "<table border=\"1\" class=\"dataframe\">\n",
       "  <thead>\n",
       "    <tr style=\"text-align: right;\">\n",
       "      <th></th>\n",
       "      <th>revenue</th>\n",
       "    </tr>\n",
       "  </thead>\n",
       "  <tbody>\n",
       "    <tr>\n",
       "      <th>0</th>\n",
       "      <td>6865.12</td>\n",
       "    </tr>\n",
       "  </tbody>\n",
       "</table>\n",
       "</div>"
      ],
      "text/plain": [
       "   revenue\n",
       "0  6865.12"
      ]
     },
     "execution_count": 14,
     "metadata": {},
     "output_type": "execute_result"
    }
   ],
   "source": [
    "df4 = pd.read_sql_query(query_4,conn)\n",
    "df4"
   ]
  },
  {
   "cell_type": "code",
   "execution_count": 15,
   "id": "86111ee6",
   "metadata": {},
   "outputs": [
    {
     "name": "stdout",
     "output_type": "stream",
     "text": [
      "114, Alpha Avenue, Waltham - 02111 is generating 9.8% of revenue for SmartSpaces\n"
     ]
    }
   ],
   "source": [
    "print(\"{} is generating {}% of revenue for SmartSpaces\".format(df3.loc[0,\"BuildingAddress\"], round((df3.loc[0,\"total_revenue\"]/df4.loc[0,\"revenue\"])*100.00,2)))"
   ]
  },
  {
   "cell_type": "markdown",
   "id": "9feec22b",
   "metadata": {},
   "source": [
    "### Query 4:  Analysis to understand the contribution of services towards revenue"
   ]
  },
  {
   "cell_type": "code",
   "execution_count": 16,
   "id": "b166aba0",
   "metadata": {},
   "outputs": [],
   "source": [
    "query_5 = \"\"\"SELECT s.Type, SUM(sb.QuantityRequested * s.ServiceCost) service_revenue\n",
    "FROM service s\n",
    "JOIN servicebooking sb ON sb.ServiceId = s.Id\n",
    "GROUP BY s.Type\n",
    "ORDER BY service_revenue DESC\"\"\""
   ]
  },
  {
   "cell_type": "code",
   "execution_count": 17,
   "id": "8d34acf6",
   "metadata": {},
   "outputs": [
    {
     "name": "stderr",
     "output_type": "stream",
     "text": [
      "C:\\ProgramData\\Anaconda3\\lib\\site-packages\\pandas\\io\\sql.py:762: UserWarning: pandas only support SQLAlchemy connectable(engine/connection) ordatabase string URI or sqlite3 DBAPI2 connectionother DBAPI2 objects are not tested, please consider using SQLAlchemy\n",
      "  warnings.warn(\n"
     ]
    },
    {
     "data": {
      "text/html": [
       "<div>\n",
       "<style scoped>\n",
       "    .dataframe tbody tr th:only-of-type {\n",
       "        vertical-align: middle;\n",
       "    }\n",
       "\n",
       "    .dataframe tbody tr th {\n",
       "        vertical-align: top;\n",
       "    }\n",
       "\n",
       "    .dataframe thead th {\n",
       "        text-align: right;\n",
       "    }\n",
       "</style>\n",
       "<table border=\"1\" class=\"dataframe\">\n",
       "  <thead>\n",
       "    <tr style=\"text-align: right;\">\n",
       "      <th></th>\n",
       "      <th>Type</th>\n",
       "      <th>service_revenue</th>\n",
       "    </tr>\n",
       "  </thead>\n",
       "  <tbody>\n",
       "    <tr>\n",
       "      <th>0</th>\n",
       "      <td>8-hour-Parking</td>\n",
       "      <td>172.0</td>\n",
       "    </tr>\n",
       "    <tr>\n",
       "      <th>1</th>\n",
       "      <td>Gym</td>\n",
       "      <td>114.0</td>\n",
       "    </tr>\n",
       "    <tr>\n",
       "      <th>2</th>\n",
       "      <td>3-hour-Parking</td>\n",
       "      <td>114.0</td>\n",
       "    </tr>\n",
       "    <tr>\n",
       "      <th>3</th>\n",
       "      <td>Pantry-Food</td>\n",
       "      <td>111.0</td>\n",
       "    </tr>\n",
       "    <tr>\n",
       "      <th>4</th>\n",
       "      <td>Pantry-Beverage</td>\n",
       "      <td>51.0</td>\n",
       "    </tr>\n",
       "    <tr>\n",
       "      <th>5</th>\n",
       "      <td>Scanning</td>\n",
       "      <td>8.9</td>\n",
       "    </tr>\n",
       "    <tr>\n",
       "      <th>6</th>\n",
       "      <td>Printing</td>\n",
       "      <td>6.6</td>\n",
       "    </tr>\n",
       "  </tbody>\n",
       "</table>\n",
       "</div>"
      ],
      "text/plain": [
       "              Type  service_revenue\n",
       "0   8-hour-Parking            172.0\n",
       "1              Gym            114.0\n",
       "2   3-hour-Parking            114.0\n",
       "3      Pantry-Food            111.0\n",
       "4  Pantry-Beverage             51.0\n",
       "5         Scanning              8.9\n",
       "6         Printing              6.6"
      ]
     },
     "execution_count": 17,
     "metadata": {},
     "output_type": "execute_result"
    }
   ],
   "source": [
    "df5 = pd.read_sql_query(query_5,conn)\n",
    "df5"
   ]
  },
  {
   "cell_type": "code",
   "execution_count": 18,
   "id": "bdfa72df",
   "metadata": {},
   "outputs": [
    {
     "data": {
      "image/png": "[encoded data removed]",
      "text/plain": [
       "<Figure size 640x480 with 1 Axes>"
      ]
     },
     "metadata": {},
     "output_type": "display_data"
    }
   ],
   "source": [
    "# Pie Plot\n",
    "exp_list = [0.05,0,0,0,0,0,0]\n",
    "plt.pie(df5.service_revenue, labels=df5.Type, autopct='%.0f%%', explode = exp_list)\n",
    "plt.axis('equal')\n",
    "plt.show()"
   ]
  },
  {
   "cell_type": "markdown",
   "id": "277e609f",
   "metadata": {},
   "source": [
    "This analysis shows that 8-hour-Parking is generating maximum revenue amongst services for SmartSpaces. This suggests that SmartSpaces should expand their venture amongst buildings which have Parking spaces"
   ]
  },
  {
   "cell_type": "code",
   "execution_count": 19,
   "id": "dba79db1",
   "metadata": {},
   "outputs": [],
   "source": [
    "conn.close()"
   ]
  }
 ],
 "metadata": {
  "kernelspec": {
   "display_name": "Python 3 (ipykernel)",
   "language": "python",
   "name": "python3"
  },
  "language_info": {
   "codemirror_mode": {
    "name": "ipython",
    "version": 3
   },
   "file_extension": ".py",
   "mimetype": "text/x-python",
   "name": "python",
   "nbconvert_exporter": "python",
   "pygments_lexer": "ipython3",
   "version": "3.9.13"
  }
 },
 "nbformat": 4,
 "nbformat_minor": 5
}
